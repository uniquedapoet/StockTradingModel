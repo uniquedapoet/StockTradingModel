{
 "cells": [
  {
   "cell_type": "code",
   "execution_count": 10,
   "metadata": {},
   "outputs": [],
   "source": [
    "import pandas as pd\n",
    "\n",
    "# Step 1: Read the CSV file into a DataFrame\n",
    "data = pd.read_csv('10year.csv')\n",
    "business = pd.read_csv('../data/sp500_companies.csv')\n",
    "# Step 2: Drop the desired column (e.g., 'ColumnName')\n",
    "data = data.drop(columns=['Actual Sell'])\n",
    "\n",
    "stocks = ['JNJ', 'PG', 'WMT', 'MCD', 'NKE', 'PAYC', 'PARA', 'EL','META', 'AMZN', 'TGT', 'VZ']\n",
    "\n",
    "data = data[data['Stock Name'].isin(stocks)]\n",
    "data['sector'] = data['Stock Name'].map(business.set_index('Symbol')['Sector'])\n",
    "\n",
    "# Remove the time and timezone from the Date column\n",
    "data['Date'] = data['Date'].str.split(' ').str[0]\n",
    "\n",
    "# Step 3: Save the modified DataFrame back to a CSV file\n",
    "data.to_csv('10year_modified.csv', index=False)"
   ]
  },
  {
   "cell_type": "code",
   "execution_count": 15,
   "metadata": {},
   "outputs": [
    {
     "name": "stderr",
     "output_type": "stream",
     "text": [
      "/var/folders/75/l95mxw1j5w9ddljb82_6_m_40000gn/T/ipykernel_92094/3591327977.py:4: DeprecationWarning: DataFrameGroupBy.apply operated on the grouping columns. This behavior is deprecated, and in a future version of pandas the grouping columns will be excluded from the operation. Either pass `include_groups=False` to exclude the groupings or explicitly select the grouping columns after groupby to silence this warning.\n",
      "  final_values = df.groupby('Stock Name').apply(lambda x: x.iloc[-1])\n"
     ]
    }
   ],
   "source": [
    "data = pd.read_csv('10year_modified.csv')\n",
    "def get_final_portfolio_values(df):\n",
    "    # Group by 'Stock Name' and get the last row for each group\n",
    "    final_values = df.groupby('Stock Name').apply(lambda x: x.iloc[-1])\n",
    "    \n",
    "    # Extract 'Stock Name' and 'Portfolio Value' columns\n",
    "    result = final_values[['Stock Name', 'Portfolio Value','Shares Held','sector']].reset_index(drop=True)\n",
    "    \n",
    "    return result\n",
    "\n",
    "final_portfolio_values = get_final_portfolio_values(data)\n",
    "final_portfolio_values.to_csv('final_portfolio_values.csv', index=False)"
   ]
  },
  {
   "cell_type": "code",
   "execution_count": null,
   "metadata": {},
   "outputs": [],
   "source": []
  }
 ],
 "metadata": {
  "kernelspec": {
   "display_name": "Python 3",
   "language": "python",
   "name": "python3"
  },
  "language_info": {
   "codemirror_mode": {
    "name": "ipython",
    "version": 3
   },
   "file_extension": ".py",
   "mimetype": "text/x-python",
   "name": "python",
   "nbconvert_exporter": "python",
   "pygments_lexer": "ipython3",
   "version": "3.12.6"
  }
 },
 "nbformat": 4,
 "nbformat_minor": 2
}
