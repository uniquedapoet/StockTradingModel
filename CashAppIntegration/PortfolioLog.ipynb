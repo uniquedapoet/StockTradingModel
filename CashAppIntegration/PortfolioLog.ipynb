{
 "cells": [
  {
   "cell_type": "code",
   "execution_count": 28,
   "metadata": {},
   "outputs": [
    {
     "name": "stdout",
     "output_type": "stream",
     "text": [
      "AMZN, sold at 124.11, fee: 0.02, percentage: 0.016112140497865142\n"
     ]
    }
   ],
   "source": [
    "import pandas as pd\n",
    "\n",
    "def calculate_percentage(fee, SalePrice, stock):\n",
    "    if SalePrice == 0:\n",
    "        return 0\n",
    "    percentage = (fee / SalePrice) * 100\n",
    "    portfolio = pd.read_csv('portfolio.csv')\n",
    "    \n",
    "    # Update the SalePrice for the given stock on the most recent day\n",
    "    portfolio.loc[(portfolio['Stock Name'] == stock) & (portfolio['Day'] == portfolio['Day'].max()), 'SalePrice'] = SalePrice - fee\n",
    "    \n",
    "    # Write to the log file in append mode\n",
    "    with open('Log.txt', 'a') as file:\n",
    "        file.write(f\"{stock}, sold at {SalePrice - fee}, fee: {fee}, percentage: {percentage}\\n\")\n",
    "    \n",
    "    # Print the log message\n",
    "    print(f\"{stock}, sold at {SalePrice - fee}, fee: {fee}, percentage: {percentage}\")\n",
    "    \n",
    "    return portfolio\n",
    "\n",
    "# Example usage\n",
    "fee = 0.02\n",
    "SalePrice = 124.13\n",
    "stock = \"AMZN\"\n",
    "Sale = calculate_percentage(fee, SalePrice, stock).fillna(0)"
   ]
  },
  {
   "cell_type": "code",
   "execution_count": 32,
   "metadata": {},
   "outputs": [],
   "source": [
    "portfolio = pd.read_csv('portfolio2.csv').sort_values(by='Day')\n",
    "portfolio.to_csv('portfolio2.csv', index=False)"
   ]
  },
  {
   "cell_type": "code",
   "execution_count": null,
   "metadata": {},
   "outputs": [],
   "source": [
    "portfolio = pd.read_csv('portfolio.csv')\n",
    "portfolio['Cash'] = portfolio[portfolio['Day'] == portfolio['Day'].max()]['SalePrice'].sum()\n"
   ]
  }
 ],
 "metadata": {
  "kernelspec": {
   "display_name": "Python 3",
   "language": "python",
   "name": "python3"
  },
  "language_info": {
   "codemirror_mode": {
    "name": "ipython",
    "version": 3
   },
   "file_extension": ".py",
   "mimetype": "text/x-python",
   "name": "python",
   "nbconvert_exporter": "python",
   "pygments_lexer": "ipython3",
   "version": "3.12.6"
  }
 },
 "nbformat": 4,
 "nbformat_minor": 2
}
